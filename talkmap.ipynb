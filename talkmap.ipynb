{
 "cells": [
  {
   "cell_type": "markdown",
   "metadata": {},
   "source": [
    "# Leaflet cluster map of talk locations\n",
    "\n",
    "Run this from the _talks/ directory, which contains .md files of all your talks. This scrapes the location YAML field from each .md file, geolocates it with geopy/Nominatim, and uses the getorg library to output data, HTML, and Javascript for a standalone cluster map."
   ]
  },
  {
   "cell_type": "code",
   "execution_count": 1,
   "metadata": {
    "collapsed": false
   },
   "outputs": [
    {
     "name": "stdout",
     "output_type": "stream",
     "text": [
      "Collecting getorg\n",
      "  Downloading getorg-0.3.1-py2.py3-none-any.whl.metadata (326 bytes)\n",
      "Collecting geopy (from getorg)\n",
      "  Downloading geopy-2.4.1-py3-none-any.whl.metadata (6.8 kB)\n",
      "Collecting pygithub (from getorg)\n",
      "  Downloading PyGithub-2.5.0-py3-none-any.whl.metadata (3.9 kB)\n",
      "Collecting retrying (from getorg)\n",
      "  Downloading retrying-1.3.4-py3-none-any.whl.metadata (6.9 kB)\n",
      "Collecting geographiclib<3,>=1.52 (from geopy->getorg)\n",
      "  Downloading geographiclib-2.0-py3-none-any.whl.metadata (1.4 kB)\n",
      "Collecting pynacl>=1.4.0 (from pygithub->getorg)\n",
      "  Downloading PyNaCl-1.5.0-cp36-abi3-macosx_10_10_universal2.whl.metadata (8.7 kB)\n",
      "Requirement already satisfied: requests>=2.14.0 in /opt/homebrew/anaconda3/envs/py311/lib/python3.11/site-packages (from pygithub->getorg) (2.32.3)\n",
      "Collecting pyjwt>=2.4.0 (from pyjwt[crypto]>=2.4.0->pygithub->getorg)\n",
      "  Downloading PyJWT-2.9.0-py3-none-any.whl.metadata (3.0 kB)\n",
      "Requirement already satisfied: typing-extensions>=4.0.0 in /opt/homebrew/anaconda3/envs/py311/lib/python3.11/site-packages (from pygithub->getorg) (4.12.2)\n",
      "Requirement already satisfied: urllib3>=1.26.0 in /opt/homebrew/anaconda3/envs/py311/lib/python3.11/site-packages (from pygithub->getorg) (2.2.2)\n",
      "Collecting Deprecated (from pygithub->getorg)\n",
      "  Downloading Deprecated-1.2.14-py2.py3-none-any.whl.metadata (5.4 kB)\n",
      "Requirement already satisfied: six>=1.7.0 in /opt/homebrew/anaconda3/envs/py311/lib/python3.11/site-packages (from retrying->getorg) (1.16.0)\n",
      "Collecting cryptography>=3.4.0 (from pyjwt[crypto]>=2.4.0->pygithub->getorg)\n",
      "  Downloading cryptography-43.0.3-cp39-abi3-macosx_10_9_universal2.whl.metadata (5.4 kB)\n",
      "Requirement already satisfied: cffi>=1.4.1 in /opt/homebrew/anaconda3/envs/py311/lib/python3.11/site-packages (from pynacl>=1.4.0->pygithub->getorg) (1.16.0)\n",
      "Requirement already satisfied: charset-normalizer<4,>=2 in /opt/homebrew/anaconda3/envs/py311/lib/python3.11/site-packages (from requests>=2.14.0->pygithub->getorg) (3.3.2)\n",
      "Requirement already satisfied: idna<4,>=2.5 in /opt/homebrew/anaconda3/envs/py311/lib/python3.11/site-packages (from requests>=2.14.0->pygithub->getorg) (3.7)\n",
      "Requirement already satisfied: certifi>=2017.4.17 in /opt/homebrew/anaconda3/envs/py311/lib/python3.11/site-packages (from requests>=2.14.0->pygithub->getorg) (2024.6.2)\n",
      "Collecting wrapt<2,>=1.10 (from Deprecated->pygithub->getorg)\n",
      "  Downloading wrapt-1.16.0-cp311-cp311-macosx_11_0_arm64.whl.metadata (6.6 kB)\n",
      "Requirement already satisfied: pycparser in /opt/homebrew/anaconda3/envs/py311/lib/python3.11/site-packages (from cffi>=1.4.1->pynacl>=1.4.0->pygithub->getorg) (2.22)\n",
      "Downloading getorg-0.3.1-py2.py3-none-any.whl (39 kB)\n",
      "Downloading geopy-2.4.1-py3-none-any.whl (125 kB)\n",
      "\u001b[2K   \u001b[90m━━━━━━━━━━━━━━━━━━━━━━━━━━━━━━━━━━━━━━━━\u001b[0m \u001b[32m125.4/125.4 kB\u001b[0m \u001b[31m5.3 MB/s\u001b[0m eta \u001b[36m0:00:00\u001b[0m\n",
      "\u001b[?25hDownloading PyGithub-2.5.0-py3-none-any.whl (375 kB)\n",
      "\u001b[2K   \u001b[90m━━━━━━━━━━━━━━━━━━━━━━━━━━━━━━━━━━━━━━━━\u001b[0m \u001b[32m375.9/375.9 kB\u001b[0m \u001b[31m13.2 MB/s\u001b[0m eta \u001b[36m0:00:00\u001b[0m\n",
      "\u001b[?25hDownloading retrying-1.3.4-py3-none-any.whl (11 kB)\n",
      "Downloading geographiclib-2.0-py3-none-any.whl (40 kB)\n",
      "\u001b[2K   \u001b[90m━━━━━━━━━━━━━━━━━━━━━━━━━━━━━━━━━━━━━━━━\u001b[0m \u001b[32m40.3/40.3 kB\u001b[0m \u001b[31m4.1 MB/s\u001b[0m eta \u001b[36m0:00:00\u001b[0m\n",
      "\u001b[?25hDownloading PyJWT-2.9.0-py3-none-any.whl (22 kB)\n",
      "Downloading PyNaCl-1.5.0-cp36-abi3-macosx_10_10_universal2.whl (349 kB)\n",
      "\u001b[2K   \u001b[90m━━━━━━━━━━━━━━━━━━━━━━━━━━━━━━━━━━━━━━━━\u001b[0m \u001b[32m349.9/349.9 kB\u001b[0m \u001b[31m16.2 MB/s\u001b[0m eta \u001b[36m0:00:00\u001b[0m\n",
      "\u001b[?25hDownloading Deprecated-1.2.14-py2.py3-none-any.whl (9.6 kB)\n",
      "Downloading cryptography-43.0.3-cp39-abi3-macosx_10_9_universal2.whl (6.2 MB)\n",
      "\u001b[2K   \u001b[90m━━━━━━━━━━━━━━━━━━━━━━━━━━━━━━━━━━━━━━━━\u001b[0m \u001b[32m6.2/6.2 MB\u001b[0m \u001b[31m22.1 MB/s\u001b[0m eta \u001b[36m0:00:00\u001b[0m00:01\u001b[0m00:01\u001b[0m\n",
      "\u001b[?25hDownloading wrapt-1.16.0-cp311-cp311-macosx_11_0_arm64.whl (38 kB)\n",
      "Installing collected packages: wrapt, retrying, pyjwt, geographiclib, pynacl, geopy, Deprecated, cryptography, pygithub, getorg\n",
      "Successfully installed Deprecated-1.2.14 cryptography-43.0.3 geographiclib-2.0 geopy-2.4.1 getorg-0.3.1 pygithub-2.5.0 pyjwt-2.9.0 pynacl-1.5.0 retrying-1.3.4 wrapt-1.16.0\n",
      "Iywidgets and ipyleaflet support disabled. You must be in a Jupyter notebook to use this feature.\n",
      "Error raised:\n",
      "No module named 'ipyleaflet'\n",
      "Check that you have enabled ipyleaflet in Jupyter with:\n",
      "    jupyter nbextension enable --py ipyleaflet\n"
     ]
    }
   ],
   "source": [
    "!pip install getorg --upgrade\n",
    "import glob\n",
    "import getorg\n",
    "from geopy import Nominatim"
   ]
  },
  {
   "cell_type": "code",
   "execution_count": 2,
   "metadata": {
    "collapsed": false
   },
   "outputs": [],
   "source": [
    "g = glob.glob(\"_talks/*.md\")"
   ]
  },
  {
   "cell_type": "code",
   "execution_count": 3,
   "metadata": {
    "collapsed": true
   },
   "outputs": [],
   "source": [
    "geocoder = Nominatim(user_agent=\"mapfortalks\")\n",
    "location_dict = {}\n",
    "location = \"\"\n",
    "permalink = \"\"\n",
    "title = \"\""
   ]
  },
  {
   "cell_type": "code",
   "execution_count": null,
   "metadata": {
    "collapsed": false
   },
   "outputs": [
    {
     "name": "stdout",
     "output_type": "stream",
     "text": [
      "110\n",
      "16\n",
      "talks/2023-09-26\n",
      "-----\n",
      "[KiDS Meeting, German Centre for Cosmological Lensing, Ruhr-Universität Bochum, Bochum, Germany](https://mwiet.github.io/talks/2023-09-26) \n",
      " Bochum, Nordrhein-Westfalen, Deutschland\n",
      "125\n",
      "16\n",
      "talks/2024-02-21\n",
      "-----\n",
      "[Euclid Weak Lensing Meeting, University of Innsbruck, Innsbruck, Austria](https://mwiet.github.io/talks/2024-02-21) \n",
      " Innsbruck, Tirol, Österreich\n",
      "128\n",
      "16\n",
      "talks/2024-04-10\n",
      "-----\n",
      "[SBI for Galaxy Evolution, University of Bristol, Bristol, United Kingdom](https://mwiet.github.io/talks/2024-04-10) \n",
      " Bristol, City of Bristol, West of England, England, United Kingdom\n",
      "136\n",
      "16\n",
      "talks/2024-04-15\n",
      "-----\n",
      "[Challenging the standard cosmological model, Royal Society, London, United Kingdom](https://mwiet.github.io/talks/2024-04-15) \n",
      " London, Greater London, England, United Kingdom\n",
      "92\n",
      "16\n",
      "talks/2023-11-16\n",
      "-----\n",
      "[Durham University, Durham, United Kingdom](https://mwiet.github.io/talks/2023-11-16) \n",
      " County Durham, North East, England, United Kingdom\n",
      "129\n",
      "16\n",
      "talks/2024-10-17\n",
      "-----\n",
      "[Institut d'Astrophysique de Paris, Sorbonne Université, Paris, France](https://mwiet.github.io/talks/2024-10-17) \n",
      " Paris, Île-de-France, France métropolitaine, France\n",
      "139\n",
      "16\n",
      "talks/2024-07-10\n",
      "-----\n",
      "[CosmoVerse, Jagiellonian University in Krakow, Krakow, Poland](https://mwiet.github.io/talks/2024-07-10) \n",
      " Kraków, województwo małopolskie, Polska\n",
      "139\n",
      "16\n",
      "talks/2024-05-21\n",
      "-----\n",
      "[COSMO21, Chania, Greece](https://mwiet.github.io/talks/2024-05-21) \n",
      " Χανιά, Δήμος Χανίων, Περιφερειακή Ενότητα Χανίων, Περιφέρεια Κρήτης, Αποκεντρωμένη Διοίκηση Κρήτης, 731 36, Ελλάς\n",
      "118\n",
      "16\n",
      "talks/2020-12-04\n",
      "-----\n",
      "[Cosmoparticle Initiative, University College London, London, United Kingdom](https://mwiet.github.io/talks/2020-12-04) \n",
      " London, Greater London, England, United Kingdom\n",
      "157\n",
      "16\n",
      "talks/2020-03-11\n",
      "-----\n",
      "[Institute for Astronomy, University of Edinburgh, Edinburgh, United Kingdom](https://mwiet.github.io/talks/2020-03-11) \n",
      " City of Edinburgh, Alba / Scotland, United Kingdom\n",
      "117\n",
      "16\n",
      "talks/2024-03-27\n",
      "-----\n",
      "[Institute for Astronomy, University of Edinburgh, Edinburgh, United Kingdom](https://mwiet.github.io/talks/2024-03-27) \n",
      " City of Edinburgh, Alba / Scotland, United Kingdom\n",
      "139\n",
      "16\n",
      "talks/2024-06-18\n",
      "-----\n",
      "[Euclid Consortium Meeting, Sapienza Università di Roma, Rome, Italy](https://mwiet.github.io/talks/2024-06-18) \n",
      " Roma, Roma Capitale, Lazio, Italia\n",
      "132\n",
      "16\n",
      "talks/2023-03-09\n",
      "-----\n",
      "[Durham University, Durham, United Kingdom](https://mwiet.github.io/talks/2023-03-09) \n",
      " County Durham, North East, England, United Kingdom\n",
      "139\n",
      "16\n",
      "talks/2024-05-13\n",
      "-----\n",
      "[UK Cosmology Meeting/Ruth Fest, King's College London, London, United Kingdom](https://mwiet.github.io/talks/2024-05-13) \n",
      " London, Greater London, England, United Kingdom\n",
      "143\n",
      "16\n",
      "talks/2022-04-22\n",
      "-----\n"
     ]
    }
   ],
   "source": [
    "import time\n",
    "\n",
    "for file in g:\n",
    "    with open(file, 'r') as f:\n",
    "        lines = f.read()\n",
    "        if lines.find('location: \"') > 1:\n",
    "            loc_start = lines.find('location: \"') + 11\n",
    "            lines_trim = lines[loc_start:]\n",
    "            loc_end = lines_trim.find('\"')\n",
    "            location = lines_trim[:loc_end]\n",
    "        if lines.find('venue: \"') > 1:\n",
    "            loc_start = lines.find('venue: \"') + 8\n",
    "            lines_trim = lines[loc_start:]\n",
    "            loc_end = lines_trim.find('\"')\n",
    "            venue = lines_trim[:loc_end]\n",
    "        if lines.find('permalink: /') > 1:\n",
    "            loc_start = lines.find('permalink: /') + 12\n",
    "            lines_trim = lines[loc_start:]\n",
    "            loc_end = lines_trim.find('/') + 11\n",
    "            permalink = lines_trim[:loc_end]\n",
    "        time.sleep(2)\n",
    "        location_dict['[%s, %s](https://mwiet.github.io/%s)' % (venue, location.split(', ')[0] + ', ' + location.split(', ')[-1], permalink)] = geocoder.geocode(location)\n",
    "        print('[%s, %s](https://mwiet.github.io/%s)' % (venue, location.split(', ')[0] + ', ' + location.split(', ')[-1], permalink), \"\\n\", location_dict[location])\n"
   ]
  },
  {
   "cell_type": "code",
   "execution_count": 5,
   "metadata": {
    "collapsed": false
   },
   "outputs": [
    {
     "data": {
      "text/plain": [
       "'Written map to talkmap/'"
      ]
     },
     "execution_count": 5,
     "metadata": {},
     "output_type": "execute_result"
    }
   ],
   "source": [
    "m = getorg.orgmap.create_map_obj()\n",
    "getorg.orgmap.output_html_cluster_map(location_dict, folder_name=\"talkmap\", hashed_usernames=False)"
   ]
  }
 ],
 "metadata": {
  "anaconda-cloud": {},
  "kernelspec": {
   "display_name": "py311",
   "language": "python",
   "name": "python3"
  },
  "language_info": {
   "codemirror_mode": {
    "name": "ipython",
    "version": 3
   },
   "file_extension": ".py",
   "mimetype": "text/x-python",
   "name": "python",
   "nbconvert_exporter": "python",
   "pygments_lexer": "ipython3",
   "version": "3.11.9"
  }
 },
 "nbformat": 4,
 "nbformat_minor": 0
}
