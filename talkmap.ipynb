{
 "cells": [
  {
   "cell_type": "markdown",
   "metadata": {},
   "source": [
    "# Leaflet cluster map of talk locations\n",
    "\n",
    "Run this from the _talks/ directory, which contains .md files of all your talks. This scrapes the location YAML field from each .md file, geolocates it with geopy/Nominatim, and uses the getorg library to output data, HTML, and Javascript for a standalone cluster map."
   ]
  },
  {
   "cell_type": "code",
   "execution_count": 1,
   "metadata": {
    "collapsed": false
   },
   "outputs": [
    {
     "name": "stdout",
     "output_type": "stream",
     "text": [
      "Requirement already satisfied: getorg in /opt/homebrew/anaconda3/envs/py311/lib/python3.11/site-packages (0.3.1)\n",
      "Requirement already satisfied: geopy in /opt/homebrew/anaconda3/envs/py311/lib/python3.11/site-packages (from getorg) (2.4.1)\n",
      "Requirement already satisfied: pygithub in /opt/homebrew/anaconda3/envs/py311/lib/python3.11/site-packages (from getorg) (2.5.0)\n",
      "Requirement already satisfied: retrying in /opt/homebrew/anaconda3/envs/py311/lib/python3.11/site-packages (from getorg) (1.3.4)\n",
      "Requirement already satisfied: geographiclib<3,>=1.52 in /opt/homebrew/anaconda3/envs/py311/lib/python3.11/site-packages (from geopy->getorg) (2.0)\n",
      "Requirement already satisfied: pynacl>=1.4.0 in /opt/homebrew/anaconda3/envs/py311/lib/python3.11/site-packages (from pygithub->getorg) (1.5.0)\n",
      "Requirement already satisfied: requests>=2.14.0 in /opt/homebrew/anaconda3/envs/py311/lib/python3.11/site-packages (from pygithub->getorg) (2.32.3)\n",
      "Requirement already satisfied: pyjwt>=2.4.0 in /opt/homebrew/anaconda3/envs/py311/lib/python3.11/site-packages (from pyjwt[crypto]>=2.4.0->pygithub->getorg) (2.9.0)\n",
      "Requirement already satisfied: typing-extensions>=4.0.0 in /opt/homebrew/anaconda3/envs/py311/lib/python3.11/site-packages (from pygithub->getorg) (4.12.2)\n",
      "Requirement already satisfied: urllib3>=1.26.0 in /opt/homebrew/anaconda3/envs/py311/lib/python3.11/site-packages (from pygithub->getorg) (2.2.2)\n",
      "Requirement already satisfied: Deprecated in /opt/homebrew/anaconda3/envs/py311/lib/python3.11/site-packages (from pygithub->getorg) (1.2.14)\n",
      "Requirement already satisfied: six>=1.7.0 in /opt/homebrew/anaconda3/envs/py311/lib/python3.11/site-packages (from retrying->getorg) (1.16.0)\n",
      "Requirement already satisfied: cryptography>=3.4.0 in /opt/homebrew/anaconda3/envs/py311/lib/python3.11/site-packages (from pyjwt[crypto]>=2.4.0->pygithub->getorg) (43.0.3)\n",
      "Requirement already satisfied: cffi>=1.4.1 in /opt/homebrew/anaconda3/envs/py311/lib/python3.11/site-packages (from pynacl>=1.4.0->pygithub->getorg) (1.16.0)\n",
      "Requirement already satisfied: charset-normalizer<4,>=2 in /opt/homebrew/anaconda3/envs/py311/lib/python3.11/site-packages (from requests>=2.14.0->pygithub->getorg) (3.3.2)\n",
      "Requirement already satisfied: idna<4,>=2.5 in /opt/homebrew/anaconda3/envs/py311/lib/python3.11/site-packages (from requests>=2.14.0->pygithub->getorg) (3.7)\n",
      "Requirement already satisfied: certifi>=2017.4.17 in /opt/homebrew/anaconda3/envs/py311/lib/python3.11/site-packages (from requests>=2.14.0->pygithub->getorg) (2024.6.2)\n",
      "Requirement already satisfied: wrapt<2,>=1.10 in /opt/homebrew/anaconda3/envs/py311/lib/python3.11/site-packages (from Deprecated->pygithub->getorg) (1.16.0)\n",
      "Requirement already satisfied: pycparser in /opt/homebrew/anaconda3/envs/py311/lib/python3.11/site-packages (from cffi>=1.4.1->pynacl>=1.4.0->pygithub->getorg) (2.22)\n",
      "Iywidgets and ipyleaflet support disabled. You must be in a Jupyter notebook to use this feature.\n",
      "Error raised:\n",
      "No module named 'ipyleaflet'\n",
      "Check that you have enabled ipyleaflet in Jupyter with:\n",
      "    jupyter nbextension enable --py ipyleaflet\n"
     ]
    }
   ],
   "source": [
    "!pip install getorg --upgrade\n",
    "import glob\n",
    "import getorg\n",
    "from geopy import Nominatim"
   ]
  },
  {
   "cell_type": "code",
   "execution_count": 2,
   "metadata": {
    "collapsed": false
   },
   "outputs": [],
   "source": [
    "g = glob.glob(\"_talks/*.md\")"
   ]
  },
  {
   "cell_type": "code",
   "execution_count": 3,
   "metadata": {
    "collapsed": true
   },
   "outputs": [],
   "source": [
    "geocoder = Nominatim(user_agent=\"mapfortalks\")\n",
    "location_dict = {}\n",
    "location = \"\"\n",
    "permalink = \"\"\n",
    "title = \"\""
   ]
  },
  {
   "cell_type": "code",
   "execution_count": 4,
   "metadata": {
    "collapsed": false
   },
   "outputs": [],
   "source": [
    "import time\n",
    "\n",
    "for file in g:\n",
    "    with open(file, 'r') as f:\n",
    "        lines = f.read()\n",
    "        if lines.find('location: \"') > 1:\n",
    "            loc_start = lines.find('location: \"') + 11\n",
    "            lines_trim = lines[loc_start:]\n",
    "            loc_end = lines_trim.find('\"')\n",
    "            location = lines_trim[:loc_end]\n",
    "        if lines.find('venue: \"') > 1:\n",
    "            loc_start = lines.find('venue: \"') + 8\n",
    "            lines_trim = lines[loc_start:]\n",
    "            loc_end = lines_trim.find('\"')\n",
    "            venue = lines_trim[:loc_end]\n",
    "        if lines.find('permalink: /') > 1:\n",
    "            loc_start = lines.find('permalink: /') + 12\n",
    "            lines_trim = lines[loc_start:]\n",
    "            loc_end = lines_trim.find('/') + 11\n",
    "            permalink = lines_trim[:loc_end]\n",
    "        time.sleep(2)\n",
    "        location_dict['[%s, %s](https://mwiet.github.io/%s)' % (venue, location.split(', ')[0] + ', ' + location.split(', ')[-1], permalink)] = geocoder.geocode(location)\n"
   ]
  },
  {
   "cell_type": "code",
   "execution_count": 5,
   "metadata": {
    "collapsed": false
   },
   "outputs": [
    {
     "data": {
      "text/plain": [
       "'Written map to talkmap/'"
      ]
     },
     "execution_count": 5,
     "metadata": {},
     "output_type": "execute_result"
    }
   ],
   "source": [
    "m = getorg.orgmap.create_map_obj()\n",
    "getorg.orgmap.output_html_cluster_map(location_dict, folder_name=\"talkmap\", hashed_usernames=False)"
   ]
  }
 ],
 "metadata": {
  "anaconda-cloud": {},
  "kernelspec": {
   "display_name": "py311",
   "language": "python",
   "name": "python3"
  },
  "language_info": {
   "codemirror_mode": {
    "name": "ipython",
    "version": 3
   },
   "file_extension": ".py",
   "mimetype": "text/x-python",
   "name": "python",
   "nbconvert_exporter": "python",
   "pygments_lexer": "ipython3",
   "version": "3.11.9"
  }
 },
 "nbformat": 4,
 "nbformat_minor": 0
}
